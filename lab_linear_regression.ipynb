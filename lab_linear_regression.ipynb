{
  "nbformat": 4,
  "nbformat_minor": 0,
  "metadata": {
    "colab": {
      "provenance": []
    },
    "kernelspec": {
      "name": "python3",
      "display_name": "Python 3"
    },
    "language_info": {
      "name": "python"
    }
  },
  "cells": [
    {
      "cell_type": "markdown",
      "source": [
        "# Linear Regression"
      ],
      "metadata": {
        "id": "DNQ86nYu3_Sx"
      }
    },
    {
      "cell_type": "markdown",
      "source": [
        "## Objective:\n",
        "In this hands-on lab, you will:\n",
        "- Load and explore the **California Housing Dataset** for regression tasks.\n",
        "- Implement **Linear Regression** using `scikit-learn`.\n",
        "- Train, evaluate, and visualize the model's performance.\n",
        "- Learn key concepts such as feature scaling and performance metrics (e.g., MSE)."
      ],
      "metadata": {
        "id": "ZJ9LPYrS7Xae"
      }
    },
    {
      "cell_type": "markdown",
      "source": [
        "## 1. **Loading Libraries and the Dataset**\n",
        "\n",
        "#### Instructions:\n",
        "We will start by importing the necessary libraries. `numpy` is for numerical operations, `pandas` for handling datasets, and `scikit-learn` provides the tools for building the Linear Regression model."
      ],
      "metadata": {
        "id": "5DfzirkLna-j"
      }
    },
    {
      "cell_type": "code",
      "source": [
        "# Step 1: Import the required libraries\n",
        "\n",
        "import numpy as np\n",
        "import pandas as pd\n",
        "from sklearn.datasets import fetch_california_housing\n",
        "from sklearn.model_selection import train_test_split\n",
        "from sklearn.preprocessing import StandardScaler\n",
        "from sklearn.linear_model import LinearRegression\n",
        "from sklearn.metrics import mean_squared_error\n",
        "import matplotlib.pyplot as plt"
      ],
      "metadata": {
        "id": "nlfHK7JMnfvm"
      },
      "execution_count": 2,
      "outputs": []
    },
    {
      "cell_type": "markdown",
      "source": [
        "Now, let's load the **California Housing Dataset**, which contains data such as average house prices and features like the number of rooms, income, and location."
      ],
      "metadata": {
        "id": "TtVt1UFWnies"
      }
    },
    {
      "cell_type": "code",
      "source": [
        "# Step 2: Load the dataset\n",
        "\n",
        "data = fetch_california_housing()\n",
        "X = pd.DataFrame(data.data, columns=data.feature_names)\n",
        "y = data.target  # Median house value"
      ],
      "metadata": {
        "id": "7UA_mABWnmdg"
      },
      "execution_count": 3,
      "outputs": []
    },
    {
      "cell_type": "markdown",
      "source": [
        "## 2. **Exploring the Dataset**\n",
        "\n",
        "#### Instructions:\n",
        "Before building the model, let’s explore the dataset to understand its structure and the distribution of the features.\n",
        "\n",
        "#### Task:\n",
        "- Display the first few rows of the dataset.\n",
        "- Check the shape of the data (number of samples and features).\n",
        "- Summarize the statistics of the features using `describe()`."
      ],
      "metadata": {
        "id": "5sO01svInpml"
      }
    },
    {
      "cell_type": "code",
      "source": [
        "# Display the first few rows of the data\n",
        "print(X.head())\n",
        "\n",
        "# Check the shape of the data\n",
        "print(X.shape)\n",
        "\n",
        "# Describe the summary statistics of the features\n",
        "print(X.describe())\n"
      ],
      "metadata": {
        "id": "1nt6Guiont6-",
        "outputId": "783b34bd-9842-488a-da58-e764acb4957a",
        "colab": {
          "base_uri": "https://localhost:8080/"
        }
      },
      "execution_count": 4,
      "outputs": [
        {
          "output_type": "stream",
          "name": "stdout",
          "text": [
            "   MedInc  HouseAge  AveRooms  AveBedrms  Population  AveOccup  Latitude  \\\n",
            "0  8.3252      41.0  6.984127   1.023810       322.0  2.555556     37.88   \n",
            "1  8.3014      21.0  6.238137   0.971880      2401.0  2.109842     37.86   \n",
            "2  7.2574      52.0  8.288136   1.073446       496.0  2.802260     37.85   \n",
            "3  5.6431      52.0  5.817352   1.073059       558.0  2.547945     37.85   \n",
            "4  3.8462      52.0  6.281853   1.081081       565.0  2.181467     37.85   \n",
            "\n",
            "   Longitude  \n",
            "0    -122.23  \n",
            "1    -122.22  \n",
            "2    -122.24  \n",
            "3    -122.25  \n",
            "4    -122.25  \n",
            "(20640, 8)\n",
            "             MedInc      HouseAge      AveRooms     AveBedrms    Population  \\\n",
            "count  20640.000000  20640.000000  20640.000000  20640.000000  20640.000000   \n",
            "mean       3.870671     28.639486      5.429000      1.096675   1425.476744   \n",
            "std        1.899822     12.585558      2.474173      0.473911   1132.462122   \n",
            "min        0.499900      1.000000      0.846154      0.333333      3.000000   \n",
            "25%        2.563400     18.000000      4.440716      1.006079    787.000000   \n",
            "50%        3.534800     29.000000      5.229129      1.048780   1166.000000   \n",
            "75%        4.743250     37.000000      6.052381      1.099526   1725.000000   \n",
            "max       15.000100     52.000000    141.909091     34.066667  35682.000000   \n",
            "\n",
            "           AveOccup      Latitude     Longitude  \n",
            "count  20640.000000  20640.000000  20640.000000  \n",
            "mean       3.070655     35.631861   -119.569704  \n",
            "std       10.386050      2.135952      2.003532  \n",
            "min        0.692308     32.540000   -124.350000  \n",
            "25%        2.429741     33.930000   -121.800000  \n",
            "50%        2.818116     34.260000   -118.490000  \n",
            "75%        3.282261     37.710000   -118.010000  \n",
            "max     1243.333333     41.950000   -114.310000  \n"
          ]
        }
      ]
    },
    {
      "cell_type": "markdown",
      "source": [
        "#### Reflection Prompt:\n",
        "- Why do we load the target variable (`y`) separately from the features (`X`)?\n",
        "- What kind of features do you think will have the most impact on house prices?\n"
      ],
      "metadata": {
        "id": "IAE3Wb70nwrL"
      }
    },
    {
      "cell_type": "markdown",
      "source": [
        "## 3. **Splitting the Data**\n",
        "\n",
        "#### Instructions:\n",
        "Now, we will split the dataset into **training** and **test** sets. The training set will be used to train the model, while the test set will evaluate the model's performance on unseen data.\n",
        "\n",
        "#### Task:\n",
        "- Use `train_test_split()` to split the dataset into 80% training data and 20% test data."
      ],
      "metadata": {
        "id": "cQJfiLvVn1Dt"
      }
    },
    {
      "cell_type": "code",
      "source": [
        "from sklearn.model_selection import train_test_split\n",
        "\n",
        "# Split the data into 80% training and 20% test sets\n",
        "X_train, X_test, y_train, y_test = train_test_split(X, y, test_size=0.2, random_state=42)\n"
      ],
      "metadata": {
        "id": "_9e4Kjien8Dw"
      },
      "execution_count": 5,
      "outputs": []
    },
    {
      "cell_type": "markdown",
      "source": [
        "#### Reflection Prompt:\n",
        "- Why is it important to set aside a portion of the data for testing?\n",
        "- What might happen if you evaluate the model only on the training set?"
      ],
      "metadata": {
        "id": "QkNSc4bcn_u6"
      }
    },
    {
      "cell_type": "markdown",
      "source": [
        "## 4. **Standardizing the Data**\n",
        "\n",
        "#### Instructions:\n",
        "Linear regression models can be sensitive to the scale of the features. Therefore, it’s important to standardize the features so they all contribute equally.\n",
        "\n",
        "#### Task:\n",
        "- Initialize a `StandardScaler` object.\n",
        "- Fit the scaler to the training data.\n",
        "- Use the scaler to transform the training and test sets."
      ],
      "metadata": {
        "id": "kFF7b4IxoEl8"
      }
    },
    {
      "cell_type": "code",
      "source": [
        "from sklearn.preprocessing import StandardScaler\n",
        "\n",
        "# Initialize the scaler\n",
        "scaler = StandardScaler()\n",
        "\n",
        "# Fit the scaler on the training data\n",
        "scaler.fit(X_train)\n",
        "\n",
        "# Transform the training and test data\n",
        "X_train_scaled = scaler.transform(X_train)\n",
        "X_test_scaled = scaler.transform(X_test)\n",
        "\n",
        "# Check the transformed data by displaying the first 5 rows\n",
        "print(X_train_scaled[:5])\n"
      ],
      "metadata": {
        "id": "dydOAOXAoIv_",
        "outputId": "1db36794-51e3-4514-c030-bb9e6b6b8b0e",
        "colab": {
          "base_uri": "https://localhost:8080/"
        }
      },
      "execution_count": 6,
      "outputs": [
        {
          "output_type": "stream",
          "name": "stdout",
          "text": [
            "[[-0.326196    0.34849025 -0.17491646 -0.20836543  0.76827628  0.05137609\n",
            "  -1.3728112   1.27258656]\n",
            " [-0.03584338  1.61811813 -0.40283542 -0.12853018 -0.09890135 -0.11736222\n",
            "  -0.87669601  0.70916212]\n",
            " [ 0.14470145 -1.95271028  0.08821601 -0.25753771 -0.44981806 -0.03227969\n",
            "  -0.46014647 -0.44760309]\n",
            " [-1.01786438  0.58654547 -0.60001532 -0.14515634 -0.00743434  0.07750687\n",
            "  -1.38217186  1.23269811]\n",
            " [-0.17148831  1.14200767  0.3490073   0.08662432 -0.48587717 -0.06883176\n",
            "   0.5320839  -0.10855122]]\n"
          ]
        }
      ]
    },
    {
      "cell_type": "markdown",
      "source": [
        "#### Reflection Prompt:\n",
        "- Why is it important to **fit** the scaler only on the training data before transforming the test data?\n",
        "- How do you expect the scaling to affect the coefficients in the linear regression model?"
      ],
      "metadata": {
        "id": "JS_3TabRoL_E"
      }
    },
    {
      "cell_type": "markdown",
      "source": [
        "## 5. **Training the Linear Regression Model**\n",
        "\n",
        "#### Instructions:\n",
        "Now we will train the **Linear Regression** model using the scaled training data.\n",
        "\n",
        "#### Task:\n",
        "- Initialize the `LinearRegression` model.\n",
        "- Fit the model to the training data.\n",
        "- Display the learned coefficients (weights) of the model."
      ],
      "metadata": {
        "id": "qX0IMgxjoT77"
      }
    },
    {
      "cell_type": "code",
      "source": [
        "# Step 6: Train the Linear Regression model\n",
        "\n",
        "# Task: Initialize the Linear Regression model\n",
        "# Insert your code here:\n",
        "# Example: model = LinearRegression()\n",
        "\n",
        "# Task: Fit the model on the scaled training data\n",
        "# Insert your code here:\n",
        "# Example: model.fit(X_train_scaled, y_train)\n",
        "\n",
        "# Task: Print the coefficients of the model\n",
        "# Insert your code here:\n",
        "# Example: print(model.coef_)"
      ],
      "metadata": {
        "id": "bLvAyz6UoXo6"
      },
      "execution_count": null,
      "outputs": []
    },
    {
      "cell_type": "markdown",
      "source": [
        "#### Reflection Prompt:\n",
        "- What do the coefficients represent in the context of house prices?\n",
        "- How can the intercept and coefficients help interpret the model's predictions?"
      ],
      "metadata": {
        "id": "UVLBfWuFoZwU"
      }
    },
    {
      "cell_type": "markdown",
      "source": [
        "## 6. **Evaluating the Model on Test Data**\n",
        "\n",
        "#### Instructions:\n",
        "After training the model, we will evaluate its performance on the **test set** using **Mean Squared Error (MSE)**. Lower MSE indicates that the model's predictions are closer to the actual values.\n",
        "\n",
        "#### Task:\n",
        "- Predict the target values on the test set.\n",
        "- Calculate the Mean Squared Error between the actual and predicted values.\n",
        "- Print the MSE.\n"
      ],
      "metadata": {
        "id": "dyXylnAPoh4q"
      }
    },
    {
      "cell_type": "code",
      "source": [
        "from sklearn.linear_model import LinearRegression\n",
        "\n",
        "# Initialize the Linear Regression model\n",
        "model = LinearRegression()\n",
        "\n",
        "# Fit the model on the scaled training data\n",
        "model.fit(X_train_scaled, y_train)\n",
        "\n",
        "# Print the coefficients of the model\n",
        "print(\"Model Coefficients:\", model.coef_)\n",
        "print(\"Model Intercept:\", model.intercept_)\n"
      ],
      "metadata": {
        "id": "uKD1o1ADojAW",
        "outputId": "11f01db9-7af0-4c90-8360-3cc0ec8a0c17",
        "colab": {
          "base_uri": "https://localhost:8080/"
        }
      },
      "execution_count": 8,
      "outputs": [
        {
          "output_type": "stream",
          "name": "stdout",
          "text": [
            "Model Coefficients: [ 0.85438303  0.12254624 -0.29441013  0.33925949 -0.00230772 -0.0408291\n",
            " -0.89692888 -0.86984178]\n",
            "Model Intercept: 2.0719469373788777\n"
          ]
        }
      ]
    },
    {
      "cell_type": "markdown",
      "source": [
        "#### Reflection Prompt:\n",
        "- Why is Mean Squared Error a useful metric for regression tasks?\n",
        "- How would you explain the MSE value in terms of predicting house prices?"
      ],
      "metadata": {
        "id": "CcLv6ap_olqR"
      }
    },
    {
      "cell_type": "markdown",
      "source": [
        "## 7. **Visualizing Predictions vs Actual Values**\n",
        "\n",
        "#### Instructions:\n",
        "To better understand how well the model performs, we will visualize the predicted house prices against the actual house prices.\n",
        "\n",
        "#### Task:\n",
        "- Create a scatter plot to visualize the relationship between the predicted and actual values."
      ],
      "metadata": {
        "id": "N4NQSg-MorVs"
      }
    },
    {
      "cell_type": "code",
      "source": [
        "import matplotlib.pyplot as plt\n",
        "\n",
        "# Assuming y_test_pred contains the predictions from the model on X_test_scaled\n",
        "y_test_pred = model.predict(X_test_scaled)\n",
        "\n",
        "# Create a scatter plot\n",
        "plt.scatter(y_test, y_test_pred, alpha=0.6)\n",
        "plt.xlabel(\"Actual Prices\")\n",
        "plt.ylabel(\"Predicted Prices\")\n",
        "plt.title(\"Actual vs. Predicted House Prices\")\n",
        "plt.show()\n"
      ],
      "metadata": {
        "id": "Q210u0izouHY",
        "outputId": "82bdb607-4e95-49c8-8b6d-3cafe3f86578",
        "colab": {
          "base_uri": "https://localhost:8080/",
          "height": 472
        }
      },
      "execution_count": 9,
      "outputs": [
        {
          "output_type": "display_data",
          "data": {
            "text/plain": [
              "<Figure size 640x480 with 1 Axes>"
            ],
            "image/png": "[encoded data removed]"
          },
          "metadata": {}
        }
      ]
    },
    {
      "cell_type": "markdown",
      "source": [
        "#### Reflection Prompt:\n",
        "- If the predictions are perfect, where should the points lie on the scatter plot?\n",
        "- What might be causing any deviations between the predicted and actual values?"
      ],
      "metadata": {
        "id": "VJVn7MllowUJ"
      }
    },
    {
      "cell_type": "markdown",
      "source": [
        "## 8. **Summary and Reflection**\n",
        "\n",
        "In this lab, you:\n",
        "- Loaded and explored the **California Housing Dataset**.\n",
        "- Standardized the data to improve model performance.\n",
        "- Trained and evaluated a **Linear Regression** model.\n",
        "- Visualized the relationship between predicted and actual values.\n",
        "\n",
        "#### Key Takeaways:\n",
        "- Linear regression helps quantify the relationship between features and a target variable.\n",
        "- Feature scaling is crucial for improving the performance of models sensitive to feature magnitudes.\n",
        "- Evaluating models on unseen data is essential to ensure that they generalize well.\n",
        "\n",
        "#### Reflection Prompt:\n",
        "- What are the main factors that influence the performance of a Linear Regression model?\n",
        "- How might you improve the model’s performance further?"
      ],
      "metadata": {
        "id": "FPAwKoGwo21E"
      }
    }
  ]
}